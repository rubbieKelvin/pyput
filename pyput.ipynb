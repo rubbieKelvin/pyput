{
 "cells": [
  {
   "cell_type": "markdown",
   "metadata": {},
   "source": [
    "# PyPut: `a better version of python's native input function`\n",
    "\n",
    "> no dependencies :)\n",
    "\n",
    "## importing the pyput module"
   ]
  },
  {
   "cell_type": "code",
   "execution_count": 1,
   "metadata": {},
   "outputs": [],
   "source": [
    "import pyput\n",
    "from pyput.validators import * # validators\n",
    "\n",
    "# imports below are not required\n",
    "from pprint import PrettyPrinter # for pretty printing\n",
    "\n",
    "printer = PrettyPrinter()\n",
    "pprint = printer.pprint"
   ]
  },
  {
   "cell_type": "markdown",
   "metadata": {},
   "source": [
    "## Usage:"
   ]
  },
  {
   "cell_type": "markdown",
   "metadata": {},
   "source": [
    "##### collect `string` from user"
   ]
  },
  {
   "cell_type": "code",
   "execution_count": 2,
   "metadata": {},
   "outputs": [
    {
     "name": "stdout",
     "output_type": "stream",
     "text": [
      "enter your name: rubbie kelvin\n",
      "rubbie kelvin is of type <class 'str'>\n"
     ]
    }
   ],
   "source": [
    "name = pyput.CliInput(\"enter your name: \").result(str)\n",
    "print(name, \"is of type\", type(name))"
   ]
  },
  {
   "cell_type": "markdown",
   "metadata": {},
   "source": [
    "##### collect an `integer` from user\n"
   ]
  },
  {
   "cell_type": "code",
   "execution_count": 3,
   "metadata": {},
   "outputs": [
    {
     "name": "stdout",
     "output_type": "stream",
     "text": [
      "enter your age: 18\n",
      "18 is of type <class 'int'>\n"
     ]
    }
   ],
   "source": [
    "age = pyput.CliInput(\"enter your age: \").result(int)\n",
    "print(age, \"is of type\", type(age))"
   ]
  },
  {
   "cell_type": "markdown",
   "metadata": {},
   "source": [
    "##### collect a `boolean` from user"
   ]
  },
  {
   "cell_type": "code",
   "execution_count": 4,
   "metadata": {},
   "outputs": [
    {
     "name": "stdout",
     "output_type": "stream",
     "text": [
      "are you active on media? \n",
      "False is of type <class 'int'>\n"
     ]
    }
   ],
   "source": [
    "is_active_on_media = pyput.CliInput(\"are you active on media? \").result(bool)\n",
    "print(is_active_on_media, \"is of type\", type(age))"
   ]
  },
  {
   "cell_type": "markdown",
   "metadata": {},
   "source": [
    "##### collect a `list` from user"
   ]
  },
  {
   "cell_type": "code",
   "execution_count": 5,
   "metadata": {},
   "outputs": [
    {
     "name": "stdout",
     "output_type": "stream",
     "text": [
      "enter your friends name[0]rezzy\n",
      "enter your friends name[1]brumeh\n",
      "enter your friends name[2]middo\n",
      "['rezzy', 'brumeh', 'middo'] is of type <class 'list'>\n"
     ]
    }
   ],
   "source": [
    "friends = pyput.CliInput(\"enter your friends name\").result(str, str, str)  # collects 3 strings and returns list\n",
    "print(friends, \"is of type\", type(friends))"
   ]
  },
  {
   "cell_type": "code",
   "execution_count": 6,
   "metadata": {},
   "outputs": [
    {
     "name": "stdout",
     "output_type": "stream",
     "text": [
      "how many friends do you have? 3\n",
      "enter thier names[0]brumeh\n",
      "enter thier names[1]kandy\n",
      "enter thier names[2]jerome\n",
      "['brumeh', 'kandy', 'jerome']\n"
     ]
    }
   ],
   "source": [
    "# in the above example, the length of the list is determined by the types passed into pyput.CliInput.result\n",
    "# somthing like this could help :)\n",
    "\n",
    "n = pyput.CliInput(\"how many friends do you have? \").result(int)\n",
    "friends = pyput.CliInput(\"enter thier names\").result([str]*n)\n",
    "print(friends)"
   ]
  },
  {
   "cell_type": "markdown",
   "metadata": {},
   "source": [
    "##### working with a `dictionary`"
   ]
  },
  {
   "cell_type": "code",
   "execution_count": 7,
   "metadata": {},
   "outputs": [
    {
     "name": "stdout",
     "output_type": "stream",
     "text": [
      "what's your name? [firstname]rubbie\n",
      "what's your name? [lastname]kelvin\n",
      "{'firstname': 'rubbie', 'lastname': 'kelvin'}\n"
     ]
    }
   ],
   "source": [
    "name_dict = pyput.CliInput(\"what's your name? \").result(firstname=str, lastname=str)\n",
    "print(name_dict)"
   ]
  },
  {
   "cell_type": "code",
   "execution_count": 8,
   "metadata": {},
   "outputs": [
    {
     "name": "stdout",
     "output_type": "stream",
     "text": [
      "enter you details:[name][first]rubbie\n",
      "enter you details:[name][last]kelvin\n",
      "enter you details:[gender]male\n",
      "enter you details:[email]rubbiekelvinvoltsman@gmail.com\n",
      "enter you details:[numbers][0]2348141342356\n",
      "enter you details:[numbers][1]0\n",
      "{'email': 'rubbiekelvinvoltsman@gmail.com',\n",
      " 'gender': 'male',\n",
      " 'name': {'first': 'rubbie', 'last': 'kelvin'},\n",
      " 'numbers': [2348141342356, 0]}\n"
     ]
    }
   ],
   "source": [
    "# working with large dictionaries\n",
    "# lets say we have a default data template for a user\n",
    "userdata = {\n",
    "    \"name\": {\"first\":\"Anonymous\", \"last\":\"\"},\n",
    "    \"gender\":\"male\",\n",
    "    \"email\":\"no email\",\n",
    "    \"numbers\":[0, 0]\n",
    "}\n",
    "\n",
    "# we wouldnt need to start specifying types\n",
    "# there's an inbuilt function to deal with that for us; puput.typed\n",
    "userdata = pyput.CliInput(\"enter you details:\").result(pyput.typed(userdata))\n",
    "pprint(userdata)"
   ]
  },
  {
   "cell_type": "markdown",
   "metadata": {},
   "source": [
    "### What does `typed()` do?"
   ]
  },
  {
   "cell_type": "markdown",
   "metadata": {},
   "source": [
    "<span style=\"color: orange;\">typed()</span> takes in a container, either a dictionary or a list, then iterates through it to change integers, strings, and booleans to thier respective datatypes"
   ]
  },
  {
   "cell_type": "code",
   "execution_count": 9,
   "metadata": {},
   "outputs": [
    {
     "name": "stdout",
     "output_type": "stream",
     "text": [
      "[<class 'int'>,\n",
      " <class 'int'>,\n",
      " {'age': <class 'int'>, 'ismale': <class 'bool'>, 'name': <class 'str'>}]\n"
     ]
    }
   ],
   "source": [
    "# look at this:\n",
    "typed_example = pyput.typed([1, 2, dict(name=\"rubbie\", age=18, ismale=True)])\n",
    "pprint(typed_example)"
   ]
  },
  {
   "cell_type": "markdown",
   "metadata": {},
   "source": [
    "### collecting 2D List"
   ]
  },
  {
   "cell_type": "code",
   "execution_count": 10,
   "metadata": {},
   "outputs": [
    {
     "name": "stdout",
     "output_type": "stream",
     "text": [
      "enter matrix number[0][0]1\n",
      "enter matrix number[0][1]2\n",
      "enter matrix number[0][2]3\n",
      "enter matrix number[1][0]4\n",
      "enter matrix number[1][1]5\n",
      "enter matrix number[1][2]6\n",
      "enter matrix number[2][0]7\n",
      "enter matrix number[2][1]8\n",
      "enter matrix number[2][2]9\n",
      "[[1, 2, 3], [4, 5, 6], [7, 8, 9]]\n"
     ]
    }
   ],
   "source": [
    "matrix = [\n",
    "    [0, 0, 0],\n",
    "    [0, 0, 0],\n",
    "    [0, 0, 0]\n",
    "]\n",
    "\n",
    "matrix = pyput.CliInput(\"enter matrix number\").result(pyput.typed(matrix))\n",
    "pprint(matrix)"
   ]
  },
  {
   "cell_type": "markdown",
   "metadata": {},
   "source": [
    "## Validating input"
   ]
  },
  {
   "cell_type": "code",
   "execution_count": 11,
   "metadata": {},
   "outputs": [
    {
     "name": "stdout",
     "output_type": "stream",
     "text": [
      "enter a string: this is valid\n"
     ]
    }
   ],
   "source": [
    "# lets make sure the user enters a string with greater than 8 characters\n",
    "def validator(value):\n",
    "    return len(value) > 8\n",
    "\n",
    "data = pyput.CliInput(\"enter a string: \", validator=validator).result(str)"
   ]
  },
  {
   "cell_type": "code",
   "execution_count": 12,
   "metadata": {},
   "outputs": [
    {
     "name": "stdout",
     "output_type": "stream",
     "text": [
      "enter a string: this is valid\n"
     ]
    }
   ],
   "source": [
    "# using lambdas\n",
    "data = pyput.CliInput(\"enter a string: \", validator=lambda x:len(x)>8).result(str)"
   ]
  },
  {
   "cell_type": "markdown",
   "metadata": {},
   "source": [
    "### Validator Classes\n",
    "#### Inbuilt Validator classes"
   ]
  },
  {
   "cell_type": "markdown",
   "metadata": {},
   "source": [
    "* StringSizeValidator\n",
    "* EmailValidator\n",
    "* PasswordValidator\n",
    "* RangeValidator"
   ]
  },
  {
   "cell_type": "markdown",
   "metadata": {},
   "source": [
    "#### Simple password validator"
   ]
  },
  {
   "cell_type": "code",
   "execution_count": 13,
   "metadata": {},
   "outputs": [
    {
     "name": "stdout",
     "output_type": "stream",
     "text": [
      "enter your password: qwertyA2!\n"
     ]
    }
   ],
   "source": [
    "password = pyput.CliInput(\"enter your password: \", validator=PasswordValidator()).result(str)"
   ]
  },
  {
   "cell_type": "markdown",
   "metadata": {},
   "source": [
    "#### Creating validator classes\n",
    "all validator classes should have a `validate` method that takes in a string argument that returns a bool value :). you might also want to inherit the `pyput.validators.Validator` class (may not be neccessary)."
   ]
  },
  {
   "cell_type": "code",
   "execution_count": 14,
   "metadata": {},
   "outputs": [
    {
     "name": "stdout",
     "output_type": "stream",
     "text": [
      "enter a perfect square: 9\n"
     ]
    }
   ],
   "source": [
    "class SquareIntValidator(Validator):\n",
    "    \"\"\"this class validates if a number is a perfect square\n",
    "    \"\"\"\n",
    "    def validate(self, value):\n",
    "        root = value**0.5\n",
    "        return value == root*root\n",
    "    \n",
    "perfect_square = pyput.CliInput(\"enter a perfect square: \", validator=SquareIntValidator()).result(int)"
   ]
  },
  {
   "cell_type": "code",
   "execution_count": null,
   "metadata": {},
   "outputs": [],
   "source": []
  }
 ],
 "metadata": {
  "kernelspec": {
   "display_name": "Python 3",
   "language": "python",
   "name": "python3"
  },
  "language_info": {
   "codemirror_mode": {
    "name": "ipython",
    "version": 3
   },
   "file_extension": ".py",
   "mimetype": "text/x-python",
   "name": "python",
   "nbconvert_exporter": "python",
   "pygments_lexer": "ipython3",
   "version": "3.8.3"
  }
 },
 "nbformat": 4,
 "nbformat_minor": 4
}
